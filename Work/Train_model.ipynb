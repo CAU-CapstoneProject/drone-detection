{
 "cells": [
  {
   "cell_type": "code",
   "execution_count": 1,
   "metadata": {},
   "outputs": [],
   "source": [
    "import librosa\n",
    "import glob\n",
    "import numpy as np\n",
    "import pandas as pd\n",
    "import matplotlib.pyplot as plt\n",
    "from sklearn.model_selection import train_test_split\n",
    "from sklearn.preprocessing import scale, robust_scale, minmax_scale, maxabs_scale"
   ]
  },
  {
   "cell_type": "code",
   "execution_count": 2,
   "metadata": {},
   "outputs": [],
   "source": [
    "background_l = np.load(\"/Users/junhyuckwoo/capstone/TestFile/ProceedData/background_l.npy\")\n",
    "bee_l = np.load(\"/Users/junhyuckwoo/capstone/TestFile/ProceedData/bee_l.npy\")\n",
    "syma_l = np.load(\"/Users/junhyuckwoo/capstone/TestFile/ProceedData/syma_l.npy\")\n",
    "mavic_l = np.load(\"/Users/junhyuckwoo/capstone/TestFile/ProceedData/mavic_l.npy\")\n",
    "phantom_l = np.load(\"/Users/junhyuckwoo/capstone/TestFile/ProceedData/phantom_l.npy\")"
   ]
  },
  {
   "cell_type": "code",
   "execution_count": null,
   "metadata": {},
   "outputs": [],
   "source": [
    "background = np.load(\"background.npy\")\n",
    "bee = np.load(\"bee.npy\")\n",
    "syma = np.load(\"syma.npy\")\n",
    "mavic = np.load(\"mavic.npy\")\n",
    "phantom = np.load(\"phantom.npy\")\n",
    "\n",
    "back = np.load(\"background_l.npy\")\n",
    "b_l = np.load(\"bee_l.npy\")\n",
    "s_l = np.load(\"syma_l.npy\")\n",
    "m_l = np.load(\"mavic_l.npy\")\n",
    "p_l = np.load(\"phantom_l.npy\")"
   ]
  },
  {
   "cell_type": "code",
   "execution_count": null,
   "metadata": {},
   "outputs": [],
   "source": [
    "train0, test0, tr_y0, te_y0 = train_test_split(background, back, test_size=0.2, shuffle=True)\n",
    "train1, test1, tr_y1, te_y1 = train_test_split(bee, b_l, test_size=0.2, shuffle=True)\n",
    "train2, test2, tr_y2, te_y2 = train_test_split(syma, s_l, test_size=0.2, shuffle=True)\n",
    "train3, test3, tr_y3, te_y3 = train_test_split(mavic, m_l, test_size=0.2, shuffle=True)\n",
    "train4, test4, tr_y4, te_y4 = train_test_split(phantom, p_l, test_size=0.2, shuffle=True)"
   ]
  },
  {
   "cell_type": "code",
   "execution_count": null,
   "metadata": {},
   "outputs": [],
   "source": [
    "train = train0\n",
    "test = test0\n",
    "tr_y = tr_y0\n",
    "te_y = te_y0"
   ]
  },
  {
   "cell_type": "code",
   "execution_count": null,
   "metadata": {},
   "outputs": [],
   "source": [
    "train = np.concatenate((train, train1))\n",
    "train = np.concatenate((train, train2))\n",
    "train = np.concatenate((train, train3))\n",
    "train = np.concatenate((train, train4))\n",
    "\n",
    "test = np.concatenate((test, test1))\n",
    "test = np.concatenate((test, test2))\n",
    "test = np.concatenate((test, test3))\n",
    "test = np.concatenate((test, test4))"
   ]
  },
  {
   "cell_type": "code",
   "execution_count": null,
   "metadata": {},
   "outputs": [],
   "source": [
    "tr_y = np.concatenate((tr_y, tr_y1))\n",
    "tr_y = np.concatenate((tr_y, tr_y2))\n",
    "tr_y = np.concatenate((tr_y, tr_y3))\n",
    "tr_y = np.concatenate((tr_y, tr_y4))\n",
    "\n",
    "te_y = np.concatenate((te_y, te_y1))\n",
    "te_y = np.concatenate((te_y, te_y2))\n",
    "te_y = np.concatenate((te_y, te_y3))\n",
    "te_y = np.concatenate((te_y, te_y4))"
   ]
  },
  {
   "cell_type": "code",
   "execution_count": 1,
   "metadata": {},
   "outputs": [],
   "source": [
    "from sklearn.ensemble import RandomForestClassifier\n",
    "rfc = RandomForestClassifier(n_estimators=20, oob_score=True)"
   ]
  },
  {
   "cell_type": "code",
   "execution_count": null,
   "metadata": {},
   "outputs": [],
   "source": [
    "rfc.fit(train, tr_y)"
   ]
  },
  {
   "cell_type": "code",
   "execution_count": null,
   "metadata": {},
   "outputs": [],
   "source": [
    "x = test\n",
    "y = te_y"
   ]
  },
  {
   "cell_type": "code",
   "execution_count": null,
   "metadata": {},
   "outputs": [],
   "source": [
    "prediction = rfc.predict(x)"
   ]
  },
  {
   "cell_type": "code",
   "execution_count": null,
   "metadata": {},
   "outputs": [],
   "source": [
    "from sklearn.metrics import precision_recall_fscore_support\n",
    "from sklearn.metrics import confusion_matrix\n",
    "from sklearn.metrics import classification_report\n",
    "from sklearn.metrics import accuracy_score\n",
    "\n",
    "p,r,f,s = precision_recall_fscore_support(y, prediction, average='micro')\n",
    "\n",
    "print(\"F-Score:\", round(f,3))\n",
    "print(\"Accuracy: \", accuracy_score(y, prediction))\n",
    "print(classification_report(y, prediction))\n",
    "print(confusion_matrix(y, prediction))"
   ]
  },
  {
   "cell_type": "code",
   "execution_count": null,
   "metadata": {},
   "outputs": [],
   "source": [
    "from sklearn.externals import joblib"
   ]
  },
  {
   "cell_type": "code",
   "execution_count": null,
   "metadata": {},
   "outputs": [],
   "source": [
    "joblib.dump(rfc, \"randomforest.pkl\")"
   ]
  }
 ],
 "metadata": {
  "kernelspec": {
   "display_name": "Python 3",
   "language": "python",
   "name": "python3"
  },
  "language_info": {
   "codemirror_mode": {
    "name": "ipython",
    "version": 3
   },
   "file_extension": ".py",
   "mimetype": "text/x-python",
   "name": "python",
   "nbconvert_exporter": "python",
   "pygments_lexer": "ipython3",
   "version": "3.5.0"
  }
 },
 "nbformat": 4,
 "nbformat_minor": 2
}
