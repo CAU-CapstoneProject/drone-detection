{
 "cells": [
  {
   "cell_type": "code",
   "execution_count": 1,
   "metadata": {},
   "outputs": [],
   "source": [
    "import librosa\n",
    "import glob\n",
    "import numpy as np\n",
    "import pandas as pd\n",
    "import matplotlib.pyplot as plt\n",
    "from sklearn.model_selection import train_test_split\n",
    "from sklearn.preprocessing import scale, robust_scale, minmax_scale, maxabs_scale"
   ]
  },
  {
   "cell_type": "code",
   "execution_count": 2,
   "metadata": {},
   "outputs": [],
   "source": [
    "SAMPLE_RATE = 44100"
   ]
  },
  {
   "cell_type": "code",
   "execution_count": 8,
   "metadata": {},
   "outputs": [
    {
     "name": "stdout",
     "output_type": "stream",
     "text": [
      "Background Path:  /Users/junhyuckwoo/capstone/TestFile/ProceedData/background_t_44100_1s/*.wav\n",
      "Syma Path:  /Users/junhyuckwoo/capstone/TestFile/ProceedData/syma_t_44100_1s/*.wav\n",
      "Mavic Path:  /Users/junhyuckwoo/capstone/TestFile/ProceedData/mavic_t_44100_1s/*.wav\n",
      "Phantom2 Path:  /Users/junhyuckwoo/capstone/TestFile/ProceedData/phantom2_t_44100_1s/*.wav\n"
     ]
    }
   ],
   "source": [
    "# Path\n",
    "files_form = \"*.wav\"\n",
    "back_path = \"/Users/junhyuckwoo/capstone/TestFile/ProceedData/background_t_44100_1s/\" + files_form\n",
    "drone1_path = \"/Users/junhyuckwoo/capstone/TestFile/ProceedData/syma_t_44100_1s/\" + files_form\n",
    "drone2_path = \"/Users/junhyuckwoo/capstone/TestFile/ProceedData/mavic_t_44100_1s/\" + files_form\n",
    "drone3_path = \"/Users/junhyuckwoo/capstone/TestFile/ProceedData/phantom2_t_44100_1s/\" + files_form\n",
    "print(\"Background Path: \", back_path)\n",
    "print(\"Syma Path: \", drone1_path)\n",
    "print(\"Mavic Path: \", drone2_path)\n",
    "print(\"Phantom2 Path: \", drone3_path)"
   ]
  },
  {
   "cell_type": "code",
   "execution_count": 9,
   "metadata": {},
   "outputs": [
    {
     "name": "stdout",
     "output_type": "stream",
     "text": [
      "# Background:  4300\n",
      "# Syma:  1245\n",
      "# Mavic:  2475\n",
      "# Phantom2:  5245\n",
      "# Files:  1245\n"
     ]
    }
   ],
   "source": [
    "back_files = glob.glob(back_path)\n",
    "drone1_files = glob.glob(drone1_path)\n",
    "drone2_files = glob.glob(drone2_path)\n",
    "drone3_files = glob.glob(drone3_path)\n",
    "files_num = min(len(back_files), len(drone1_files), len(drone2_files), len(drone3_files))\n",
    "print(\"# Background: \", len(back_files))\n",
    "print(\"# Syma: \", len(drone1_files))\n",
    "print(\"# Mavic: \", len(drone2_files))\n",
    "print(\"# Phantom2: \", len(drone3_files))\n",
    "print(\"# Files: \", files_num)    "
   ]
  },
  {
   "cell_type": "code",
   "execution_count": 88,
   "metadata": {},
   "outputs": [],
   "source": [
    "dump = [back_files, drone1_files, drone2_files, drone3_files]\n",
    "input_data = [[],[],[],[]]"
   ]
  },
  {
   "cell_type": "code",
   "execution_count": 97,
   "metadata": {},
   "outputs": [],
   "source": [
    "for i in range(4):\n",
    "    for j in range(files_num):    \n",
    "        raw, sr = librosa.load(dump[i][j], sr=SAMPLE_RATE)\n",
    "        norm = maxabs_scale(raw)\n",
    "        buf = librosa.feature.spectral_contrast(norm).T\n",
    "        if j==0:\n",
    "            input_data[i] = buf\n",
    "        else:        \n",
    "            input_data[i] = np.concatenate((input_data[i], buf))"
   ]
  },
  {
   "cell_type": "code",
   "execution_count": 98,
   "metadata": {},
   "outputs": [
    {
     "name": "stdout",
     "output_type": "stream",
     "text": [
      "Bee shape:   (108315, 7)\n",
      "Drone shape1:  (108315, 7)\n",
      "Drone shape2:  (108315, 7)\n",
      "Drone shape3:  (108315, 7)\n"
     ]
    }
   ],
   "source": [
    "print(\"Bee shape:  \", input_data[0].shape)\n",
    "print(\"Drone shape1: \", input_data[1].shape)\n",
    "print(\"Drone shape2: \", input_data[2].shape)\n",
    "print(\"Drone shape3: \", input_data[3].shape)"
   ]
  },
  {
   "cell_type": "code",
   "execution_count": 107,
   "metadata": {},
   "outputs": [
    {
     "name": "stdout",
     "output_type": "stream",
     "text": [
      "y 0 (108315,)\n",
      "y 1 (108315,)\n",
      "y 2 (108315,)\n",
      "y 3 (108315,)\n"
     ]
    }
   ],
   "source": [
    "y = [[],[],[],[]]\n",
    "for i in range(4):\n",
    "    y[i] = np.ones(len(input_data[i]))*i\n",
    "    print(\"y\" ,i, y[i].shape)"
   ]
  },
  {
   "cell_type": "code",
   "execution_count": 148,
   "metadata": {},
   "outputs": [],
   "source": [
    "train0, test0, tr_y0, te_y0 = train_test_split(input_data[0], y[0], test_size=0.2, shuffle=True)\n",
    "train1, test1, tr_y1, te_y1 = train_test_split(input_data[1], y[1], test_size=0.2, shuffle=True)\n",
    "train2, test2, tr_y2, te_y2 = train_test_split(input_data[2], y[2], test_size=0.2, shuffle=True)\n",
    "train3, test3, tr_y3, te_y3 = train_test_split(input_data[3], y[3], test_size=0.2, shuffle=True)"
   ]
  },
  {
   "cell_type": "code",
   "execution_count": null,
   "metadata": {},
   "outputs": [],
   "source": []
  },
  {
   "cell_type": "code",
   "execution_count": 149,
   "metadata": {},
   "outputs": [],
   "source": [
    "train = train0\n",
    "test = test0\n",
    "tr_y = tr_y0\n",
    "te_y = te_y0"
   ]
  },
  {
   "cell_type": "code",
   "execution_count": 150,
   "metadata": {},
   "outputs": [],
   "source": [
    "train = np.concatenate((train, train1))\n",
    "train = np.concatenate((train, train2))\n",
    "train = np.concatenate((train, train3))\n",
    "\n",
    "test = np.concatenate((test, test1))\n",
    "test = np.concatenate((test, test2))\n",
    "test = np.concatenate((test, test3))\n",
    "\n",
    "tr_y = np.concatenate((tr_y, tr_y1))\n",
    "tr_y = np.concatenate((tr_y, tr_y2))\n",
    "tr_y = np.concatenate((tr_y, tr_y3))\n",
    "\n",
    "te_y = np.concatenate((te_y, te_y1))\n",
    "te_y = np.concatenate((te_y, te_y2))\n",
    "te_y = np.concatenate((te_y, te_y3))"
   ]
  },
  {
   "cell_type": "code",
   "execution_count": 151,
   "metadata": {},
   "outputs": [],
   "source": [
    "from sklearn.ensemble import RandomForestClassifier\n",
    "rfc = RandomForestClassifier()"
   ]
  },
  {
   "cell_type": "code",
   "execution_count": 152,
   "metadata": {},
   "outputs": [
    {
     "data": {
      "text/plain": [
       "RandomForestClassifier(bootstrap=True, class_weight=None, criterion='gini',\n",
       "            max_depth=None, max_features='auto', max_leaf_nodes=None,\n",
       "            min_impurity_decrease=0.0, min_impurity_split=None,\n",
       "            min_samples_leaf=1, min_samples_split=2,\n",
       "            min_weight_fraction_leaf=0.0, n_estimators=10, n_jobs=1,\n",
       "            oob_score=False, random_state=None, verbose=0,\n",
       "            warm_start=False)"
      ]
     },
     "execution_count": 152,
     "metadata": {},
     "output_type": "execute_result"
    }
   ],
   "source": [
    "rfc.fit(train, tr_y)"
   ]
  },
  {
   "cell_type": "code",
   "execution_count": 156,
   "metadata": {},
   "outputs": [],
   "source": [
    "x = test[87:175]\n",
    "y = te_y[87:175]"
   ]
  },
  {
   "cell_type": "code",
   "execution_count": 157,
   "metadata": {},
   "outputs": [],
   "source": [
    "prediction = rfc.predict(x)"
   ]
  },
  {
   "cell_type": "code",
   "execution_count": 158,
   "metadata": {},
   "outputs": [
    {
     "name": "stdout",
     "output_type": "stream",
     "text": [
      "F-Score: 0.773\n",
      "Accuracy:  0.7727272727272727\n",
      "             precision    recall  f1-score   support\n",
      "\n",
      "        0.0       1.00      0.77      0.87        88\n",
      "        1.0       0.00      0.00      0.00         0\n",
      "        2.0       0.00      0.00      0.00         0\n",
      "        3.0       0.00      0.00      0.00         0\n",
      "\n",
      "avg / total       1.00      0.77      0.87        88\n",
      "\n",
      "[[68  1  2 17]\n",
      " [ 0  0  0  0]\n",
      " [ 0  0  0  0]\n",
      " [ 0  0  0  0]]\n"
     ]
    },
    {
     "name": "stderr",
     "output_type": "stream",
     "text": [
      "/Users/junhyuckwoo/capstone/lib/python3.5/site-packages/sklearn/metrics/classification.py:1137: UndefinedMetricWarning: Recall and F-score are ill-defined and being set to 0.0 in labels with no true samples.\n",
      "  'recall', 'true', average, warn_for)\n"
     ]
    }
   ],
   "source": [
    "from sklearn.metrics import precision_recall_fscore_support\n",
    "p,r,f,s = precision_recall_fscore_support(y, prediction, average='micro')\n",
    "print(\"F-Score:\", round(f,3))\n",
    "from sklearn.metrics import accuracy_score\n",
    "print(\"Accuracy: \", accuracy_score(y, prediction))\n",
    "\n",
    "from sklearn.metrics import classification_report\n",
    "print(classification_report(y, prediction))\n",
    "from sklearn.metrics import confusion_matrix\n",
    "print(confusion_matrix(y, prediction))"
   ]
  },
  {
   "cell_type": "code",
   "execution_count": 159,
   "metadata": {},
   "outputs": [],
   "source": [
    "from sklearn.externals import joblib"
   ]
  },
  {
   "cell_type": "code",
   "execution_count": null,
   "metadata": {},
   "outputs": [],
   "source": [
    "joblib.dump(rfc, \"11012018_randomforest_drones_background_n_sc.pkl\")"
   ]
  }
 ],
 "metadata": {
  "kernelspec": {
   "display_name": "Python 3",
   "language": "python",
   "name": "python3"
  },
  "language_info": {
   "codemirror_mode": {
    "name": "ipython",
    "version": 3
   },
   "file_extension": ".py",
   "mimetype": "text/x-python",
   "name": "python",
   "nbconvert_exporter": "python",
   "pygments_lexer": "ipython3",
   "version": "3.5.0"
  }
 },
 "nbformat": 4,
 "nbformat_minor": 2
}
