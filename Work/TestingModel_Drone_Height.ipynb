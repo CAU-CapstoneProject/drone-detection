{
 "cells": [
  {
   "cell_type": "code",
   "execution_count": 16,
   "metadata": {},
   "outputs": [],
   "source": [
    "import librosa\n",
    "import glob\n",
    "import numpy as np\n",
    "import matplotlib.pyplot as plt"
   ]
  },
  {
   "cell_type": "code",
   "execution_count": 227,
   "metadata": {},
   "outputs": [],
   "source": [
    "# Set the path\n",
    "path ='/Users/junhyuckwoo/capstone/TestFile/Data/'\n",
    "drone_path0 = path + 'phantom4/base/0feet_b.wav'\n",
    "drone_path1 = path + 'phantom4/base/5feet_b.wav'\n",
    "drone_path2 = path + 'phantom4/base/100feet_b.wav'\n",
    "drone_path3 = path + 'phantom4/base/400feet_b.wav'\n",
    "drone_qpath0 = path + 'phantom4/quiet/0feet_q.wav'\n",
    "drone_qpath1 = path + 'phantom4/quiet/5feet_q.wav'\n",
    "drone_qpath2 = path + 'phantom4/quiet/100feet_q.wav'\n",
    "drone_qpath3 = path + 'phantom4/quiet/400feet_q.wav'"
   ]
  },
  {
   "cell_type": "code",
   "execution_count": 228,
   "metadata": {},
   "outputs": [],
   "source": [
    "# Load data\n",
    "raw_drone0, sr_drone0 = librosa.load(drone_path0, sr=44100)\n",
    "raw_drone1, sr_drone1 = librosa.load(drone_path1, sr=44100)\n",
    "raw_drone2, sr_drone2 = librosa.load(drone_path2, sr=44100)\n",
    "raw_drone3, sr_drone3 = librosa.load(drone_path3, sr=44100)\n",
    "raw_qdrone0, sr_drone3 = librosa.load(drone_qpath0, sr=44100)\n",
    "raw_qdrone1, sr_drone3 = librosa.load(drone_qpath1, sr=44100)\n",
    "raw_qdrone2, sr_drone3 = librosa.load(drone_qpath2, sr=44100)\n",
    "raw_qdrone3, sr_drone3 = librosa.load(drone_qpath3, sr=44100)"
   ]
  },
  {
   "cell_type": "code",
   "execution_count": 229,
   "metadata": {},
   "outputs": [
    {
     "name": "stdout",
     "output_type": "stream",
     "text": [
      "drone0:  132300\n",
      "drone1:  132300\n",
      "drone2:  132300\n",
      "drone3:  132300\n",
      "q-drone0:  132300\n",
      "q-drone1:  132300\n",
      "q-drone2:  132300\n",
      "q-drone3:  132300\n"
     ]
    }
   ],
   "source": [
    "# Split data as long as we want\n",
    "length = 176400\n",
    "length = 132300\n",
    "drone0 = raw_drone0[:length]\n",
    "drone1 = raw_drone1[:length]\n",
    "drone2 = raw_drone2[:length]\n",
    "drone3 = raw_drone3[:length]\n",
    "qdrone0 = raw_qdrone0[:length]\n",
    "qdrone1 = raw_qdrone1[:length]\n",
    "qdrone2 = raw_qdrone2[:length]\n",
    "qdrone3 = raw_qdrone3[:length]\n",
    "\n",
    "# Check data length\n",
    "print(\"drone0: \",len(drone0))\n",
    "print(\"drone1: \",len(drone1))\n",
    "print(\"drone2: \",len(drone2))\n",
    "print(\"drone3: \",len(drone3))\n",
    "print(\"q-drone0: \",len(qdrone0))\n",
    "print(\"q-drone1: \",len(qdrone1))\n",
    "print(\"q-drone2: \",len(qdrone2))\n",
    "print(\"q-drone3: \",len(qdrone3))"
   ]
  },
  {
   "cell_type": "code",
   "execution_count": 230,
   "metadata": {},
   "outputs": [],
   "source": [
    "# Calculate MFCC\n",
    "mfcc_drone0 = librosa.feature.mfcc(drone0)\n",
    "mfcc_drone1 = librosa.feature.mfcc(drone1)\n",
    "mfcc_drone2 = librosa.feature.mfcc(drone2)\n",
    "mfcc_drone3 = librosa.feature.mfcc(drone3)\n",
    "mfcc_qdrone0 = librosa.feature.mfcc(qdrone0)\n",
    "mfcc_qdrone1 = librosa.feature.mfcc(qdrone1)\n",
    "mfcc_qdrone2 = librosa.feature.mfcc(qdrone2)\n",
    "mfcc_qdrone3 = librosa.feature.mfcc(qdrone3)"
   ]
  },
  {
   "cell_type": "code",
   "execution_count": 231,
   "metadata": {},
   "outputs": [
    {
     "name": "stdout",
     "output_type": "stream",
     "text": [
      "Drone0:  (259, 20)\n",
      "Drone1:  (259, 20)\n",
      "Drone2:  (259, 20)\n",
      "Drone3:  (259, 20)\n",
      "Drone0:  (259, 20)\n",
      "Drone1:  (259, 20)\n",
      "Drone2:  (259, 20)\n",
      "Drone3:  (259, 20)\n",
      "Input:  (2072, 20)\n"
     ]
    }
   ],
   "source": [
    "# Input data\n",
    "mfcc_drone_t0=mfcc_drone0.T\n",
    "mfcc_drone_t1=mfcc_drone1.T\n",
    "mfcc_drone_t2=mfcc_drone2.T\n",
    "mfcc_drone_t3=mfcc_drone3.T\n",
    "mfcc_qdrone_t0=mfcc_qdrone0.T\n",
    "mfcc_qdrone_t1=mfcc_qdrone1.T\n",
    "mfcc_qdrone_t2=mfcc_qdrone2.T\n",
    "mfcc_qdrone_t3=mfcc_qdrone3.T\n",
    "\n",
    "x = np.concatenate((mfcc_drone_t0, mfcc_qdrone_t0))\n",
    "x = np.concatenate((x, mfcc_drone_t1))\n",
    "x = np.concatenate((x, mfcc_qdrone_t1))\n",
    "x = np.concatenate((x, mfcc_drone_t2))\n",
    "x = np.concatenate((x, mfcc_qdrone_t2))\n",
    "x = np.concatenate((x, mfcc_drone_t3))\n",
    "x = np.concatenate((x, mfcc_qdrone_t3))\n",
    "\n",
    "\n",
    "print(\"Drone0: \", mfcc_drone_t0.shape)\n",
    "print(\"Drone1: \", mfcc_drone_t1.shape)\n",
    "print(\"Drone2: \", mfcc_drone_t2.shape)\n",
    "print(\"Drone3: \", mfcc_drone_t3.shape)\n",
    "print(\"Drone0: \", mfcc_qdrone_t0.shape)\n",
    "print(\"Drone1: \", mfcc_qdrone_t1.shape)\n",
    "print(\"Drone2: \", mfcc_qdrone_t2.shape)\n",
    "print(\"Drone3: \", mfcc_qdrone_t3.shape)\n",
    "print(\"Input: \", x.shape)"
   ]
  },
  {
   "cell_type": "code",
   "execution_count": 232,
   "metadata": {},
   "outputs": [
    {
     "name": "stdout",
     "output_type": "stream",
     "text": [
      "L-Drone0:  (259,)\n",
      "L-Drone1:  (259,)\n",
      "L-Drone2:  (259,)\n",
      "L-Drone3:  (259,)\n",
      "L-Drone0:  (259,)\n",
      "L-Drone1:  (259,)\n",
      "L-Drone2:  (259,)\n",
      "L-Drone3:  (259,)\n",
      "y:  (2072,)\n"
     ]
    }
   ],
   "source": [
    "# Label data\n",
    "y1 = np.ones(mfcc_drone_t0.shape[0])\n",
    "y2 = np.ones(mfcc_drone_t1.shape[0]) * 2\n",
    "y3 = np.ones(mfcc_drone_t2.shape[0]) *3\n",
    "y4 = np.ones(mfcc_drone_t3.shape[0])*4\n",
    "qy1 = np.ones(mfcc_qdrone_t0.shape[0])\n",
    "qy2 = np.ones(mfcc_qdrone_t1.shape[0]) * 2\n",
    "qy3 = np.ones(mfcc_qdrone_t2.shape[0]) *3\n",
    "qy4 = np.ones(mfcc_qdrone_t3.shape[0])*4\n",
    "\n",
    "y = np.concatenate((y1,  qy1))\n",
    "y = np.concatenate((y,  y2))\n",
    "y = np.concatenate((y,  qy2))\n",
    "y = np.concatenate((y,  y3))\n",
    "y = np.concatenate((y,  qy3))\n",
    "y = np.concatenate((y,  y4))\n",
    "y = np.concatenate((y,  qy4))\n",
    "\n",
    "print(\"L-Drone0: \", y1.shape)\n",
    "print(\"L-Drone1: \", y2.shape)\n",
    "print(\"L-Drone2: \", y3.shape)\n",
    "print(\"L-Drone3: \", y4.shape)\n",
    "print(\"L-Drone0: \", qy1.shape)\n",
    "print(\"L-Drone1: \", qy2.shape)\n",
    "print(\"L-Drone2: \", qy3.shape)\n",
    "print(\"L-Drone3: \", qy4.shape)\n",
    "print(\"y: \", y.shape)"
   ]
  },
  {
   "cell_type": "code",
   "execution_count": 233,
   "metadata": {},
   "outputs": [],
   "source": [
    "#from sklearn.tree import DecisionTreeClassifier\n",
    "#from sklearn.tree import DecisionTreeRegressor\n",
    "from sklearn.ensemble import RandomForestClassifier\n",
    "#clf = DecisionTreeClassifier(random_state=0)\n",
    "#clf = DecisionTreeRegressor(random_state=0)\n",
    "clf = RandomForestClassifier()"
   ]
  },
  {
   "cell_type": "code",
   "execution_count": 234,
   "metadata": {},
   "outputs": [
    {
     "data": {
      "text/plain": [
       "RandomForestClassifier(bootstrap=True, class_weight=None, criterion='gini',\n",
       "            max_depth=None, max_features='auto', max_leaf_nodes=None,\n",
       "            min_impurity_decrease=0.0, min_impurity_split=None,\n",
       "            min_samples_leaf=1, min_samples_split=2,\n",
       "            min_weight_fraction_leaf=0.0, n_estimators=10, n_jobs=1,\n",
       "            oob_score=False, random_state=None, verbose=0,\n",
       "            warm_start=False)"
      ]
     },
     "execution_count": 234,
     "metadata": {},
     "output_type": "execute_result"
    }
   ],
   "source": [
    "clf.fit(x, y)"
   ]
  },
  {
   "cell_type": "code",
   "execution_count": 235,
   "metadata": {},
   "outputs": [
    {
     "name": "stdout",
     "output_type": "stream",
     "text": [
      "/Users/junhyuckwoo/capstone/TestFile/TestData/1/Test/1_1.wav is loaded\n",
      "/Users/junhyuckwoo/capstone/TestFile/TestData/1/Test/1_2.wav is loaded\n",
      "/Users/junhyuckwoo/capstone/TestFile/TestData/1/Test/1_3.wav is loaded\n",
      "/Users/junhyuckwoo/capstone/TestFile/TestData/1/Test/2.wav is loaded\n",
      "/Users/junhyuckwoo/capstone/TestFile/TestData/1/Test/2_1.wav is loaded\n",
      "/Users/junhyuckwoo/capstone/TestFile/TestData/1/Test/2_2.wav is loaded\n",
      "/Users/junhyuckwoo/capstone/TestFile/TestData/1/Test/2_3.wav is loaded\n",
      "/Users/junhyuckwoo/capstone/TestFile/TestData/1/Test/3.wav is loaded\n",
      "/Users/junhyuckwoo/capstone/TestFile/TestData/1/Test/3_1.wav is loaded\n",
      "/Users/junhyuckwoo/capstone/TestFile/TestData/1/Test/3_2.wav is loaded\n",
      "/Users/junhyuckwoo/capstone/TestFile/TestData/1/Test/3_3.wav is loaded\n",
      "/Users/junhyuckwoo/capstone/TestFile/TestData/1/Test/4.wav is loaded\n",
      "/Users/junhyuckwoo/capstone/TestFile/TestData/1/Test/4_1.wav is loaded\n",
      "/Users/junhyuckwoo/capstone/TestFile/TestData/1/Test/4_2.wav is loaded\n",
      "/Users/junhyuckwoo/capstone/TestFile/TestData/1/Test/4_3.wav is loaded\n",
      "Test input:  (1392, 20)\n"
     ]
    }
   ],
   "source": [
    "# Testing - Load data\n",
    "path = '/Users/junhyuckwoo/capstone/TestFile/TestData/1/Test/*.wav'\n",
    "files = glob.glob(path)\n",
    "files.sort()\n",
    "\n",
    "raw, sample_rate = librosa.load(files[0], sr=44100)\n",
    "test = librosa.feature.mfcc(raw)\n",
    "test = test.T\n",
    "y = np.ones(test.shape[0])\n",
    "num = 0\n",
    "index = 1\n",
    "\n",
    "for files_num in files[1:]:\n",
    "    num = num + 1\n",
    "    raw, sample_rate = librosa.load(files_num, sr=44100)\n",
    "    mfcc = librosa.feature.mfcc(raw)\n",
    "    test = np.concatenate((test,  mfcc.T))\n",
    "    \n",
    "    y_tmp = np.ones(mfcc.T.shape[0]) * index\n",
    "    y = np.concatenate((y, y_tmp))\n",
    "    if num%4 == 0:\n",
    "        index = index + 1\n",
    "    print(files_num + \" is loaded\")\n",
    "    \n",
    "print(\"Test input: \", test.shape)"
   ]
  },
  {
   "cell_type": "code",
   "execution_count": 236,
   "metadata": {},
   "outputs": [
    {
     "data": {
      "text/plain": [
       "(1392,)"
      ]
     },
     "execution_count": 236,
     "metadata": {},
     "output_type": "execute_result"
    }
   ],
   "source": [
    "y.shape"
   ]
  },
  {
   "cell_type": "code",
   "execution_count": 257,
   "metadata": {},
   "outputs": [],
   "source": [
    "prediction = clf.predict(test)"
   ]
  },
  {
   "cell_type": "code",
   "execution_count": 258,
   "metadata": {},
   "outputs": [
    {
     "data": {
      "text/plain": [
       "(1392,)"
      ]
     },
     "execution_count": 258,
     "metadata": {},
     "output_type": "execute_result"
    }
   ],
   "source": [
    " prediction.shape"
   ]
  },
  {
   "cell_type": "code",
   "execution_count": 263,
   "metadata": {},
   "outputs": [
    {
     "name": "stdout",
     "output_type": "stream",
     "text": [
      "Test Accuracy: 0.81\n"
     ]
    }
   ],
   "source": [
    "print(\"Test Accuracy: {:.2f}\".format(np.mean(prediction == y)))"
   ]
  },
  {
   "cell_type": "code",
   "execution_count": 261,
   "metadata": {},
   "outputs": [
    {
     "data": {
      "text/plain": [
       "[<matplotlib.lines.Line2D at 0x1245bf128>]"
      ]
     },
     "execution_count": 261,
     "metadata": {},
     "output_type": "execute_result"
    },
    {
     "data": {
      "image/png": "[encoded data removed]",
      "text/plain": [
       "<Figure size 432x288 with 1 Axes>"
      ]
     },
     "metadata": {
      "needs_background": "light"
     },
     "output_type": "display_data"
    }
   ],
   "source": [
    "plt.plot(y)"
   ]
  },
  {
   "cell_type": "code",
   "execution_count": 262,
   "metadata": {},
   "outputs": [
    {
     "name": "stdout",
     "output_type": "stream",
     "text": [
      "Test Accuracy: 0.81\n"
     ]
    },
    {
     "data": {
      "image/png": "[encoded data removed]",
      "text/plain": [
       "<Figure size 432x288 with 1 Axes>"
      ]
     },
     "metadata": {
      "needs_background": "light"
     },
     "output_type": "display_data"
    }
   ],
   "source": [
    "plt.plot(prediction)"
   ]
  },
  {
   "cell_type": "code",
   "execution_count": 243,
   "metadata": {},
   "outputs": [
    {
     "data": {
      "text/plain": [
       "RandomForestClassifier(bootstrap=True, class_weight=None, criterion='gini',\n",
       "            max_depth=None, max_features='auto', max_leaf_nodes=None,\n",
       "            min_impurity_decrease=0.0, min_impurity_split=None,\n",
       "            min_samples_leaf=1, min_samples_split=2,\n",
       "            min_weight_fraction_leaf=0.0, n_estimators=10, n_jobs=1,\n",
       "            oob_score=False, random_state=None, verbose=0,\n",
       "            warm_start=False)"
      ]
     },
     "execution_count": 243,
     "metadata": {},
     "output_type": "execute_result"
    }
   ],
   "source": [
    "clf"
   ]
  },
  {
   "cell_type": "code",
   "execution_count": 250,
   "metadata": {},
   "outputs": [
    {
     "data": {
      "text/plain": [
       "1.0"
      ]
     },
     "execution_count": 250,
     "metadata": {},
     "output_type": "execute_result"
    }
   ],
   "source": [
    "y[260]"
   ]
  },
  {
   "cell_type": "code",
   "execution_count": null,
   "metadata": {},
   "outputs": [],
   "source": []
  }
 ],
 "metadata": {
  "kernelspec": {
   "display_name": "Python 3",
   "language": "python",
   "name": "python3"
  },
  "language_info": {
   "codemirror_mode": {
    "name": "ipython",
    "version": 3
   },
   "file_extension": ".py",
   "mimetype": "text/x-python",
   "name": "python",
   "nbconvert_exporter": "python",
   "pygments_lexer": "ipython3",
   "version": "3.5.0"
  }
 },
 "nbformat": 4,
 "nbformat_minor": 2
}
