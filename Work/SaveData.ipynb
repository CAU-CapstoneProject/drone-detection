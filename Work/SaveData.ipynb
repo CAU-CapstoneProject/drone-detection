{
 "cells": [
  {
   "cell_type": "code",
   "execution_count": 1,
   "metadata": {},
   "outputs": [],
   "source": [
    "import librosa\n",
    "import glob\n",
    "import numpy as np\n",
    "import pandas as pd\n",
    "import matplotlib.pyplot as plt\n",
    "from sklearn.model_selection import train_test_split\n",
    "from sklearn.preprocessing import scale, robust_scale, minmax_scale, maxabs_scale"
   ]
  },
  {
   "cell_type": "code",
   "execution_count": 2,
   "metadata": {},
   "outputs": [],
   "source": [
    "SAMPLE_RATE = 44100"
   ]
  },
  {
   "cell_type": "code",
   "execution_count": 3,
   "metadata": {},
   "outputs": [
    {
     "name": "stdout",
     "output_type": "stream",
     "text": [
      "Background Path:  /Users/junhyuckwoo/capstone/TestFile/ProceedData/background_t_44100_1s/*.wav\n",
      "Bee Path:  /Users/junhyuckwoo/capstone/TestFile/ProceedData/bee_t_44100_1s/*.wav\n",
      "Syma Path:  /Users/junhyuckwoo/capstone/TestFile/ProceedData/syma_t_44100_1s/*.wav\n",
      "Mavic Path:  /Users/junhyuckwoo/capstone/TestFile/ProceedData/mavic_t_44100_1s/*.wav\n",
      "Phantom2 Path:  /Users/junhyuckwoo/capstone/TestFile/ProceedData/phantom2_t_44100_1s/*.wav\n"
     ]
    }
   ],
   "source": [
    "# Path\n",
    "files_form = \"*.wav\"\n",
    "back_path = \"/Users/junhyuckwoo/capstone/TestFile/ProceedData/background_t_44100_1s/\" + files_form\n",
    "bee_path = \"/Users/junhyuckwoo/capstone/TestFile/ProceedData/bee_t_44100_1s/\" + files_form\n",
    "drone1_path = \"/Users/junhyuckwoo/capstone/TestFile/ProceedData/syma_t_44100_1s/\" + files_form\n",
    "drone2_path = \"/Users/junhyuckwoo/capstone/TestFile/ProceedData/mavic_t_44100_1s/\" + files_form\n",
    "drone3_path = \"/Users/junhyuckwoo/capstone/TestFile/ProceedData/phantom2_t_44100_1s/\" + files_form\n",
    "print(\"Background Path: \", back_path)\n",
    "print(\"Bee Path: \", bee_path)\n",
    "print(\"Syma Path: \", drone1_path)\n",
    "print(\"Mavic Path: \", drone2_path)\n",
    "print(\"Phantom2 Path: \", drone3_path)"
   ]
  },
  {
   "cell_type": "code",
   "execution_count": 4,
   "metadata": {},
   "outputs": [
    {
     "name": "stdout",
     "output_type": "stream",
     "text": [
      "# Background:  10014\n",
      "# Bee:  4922\n",
      "# Syma:  5396\n",
      "# Mavic:  5221\n",
      "# Phantom2:  5240\n",
      "# Files:  5221\n"
     ]
    }
   ],
   "source": [
    "back_files = glob.glob(back_path)\n",
    "bee_files = glob.glob(bee_path)\n",
    "drone1_files = glob.glob(drone1_path)\n",
    "drone2_files = glob.glob(drone2_path)\n",
    "drone3_files = glob.glob(drone3_path)\n",
    "files_num = min(len(back_files), len(drone1_files), len(drone2_files), len(drone3_files))\n",
    "print(\"# Background: \", len(back_files))\n",
    "print(\"# Bee: \", len(bee_files))\n",
    "print(\"# Syma: \", len(drone1_files))\n",
    "print(\"# Mavic: \", len(drone2_files))\n",
    "print(\"# Phantom2: \", len(drone3_files))\n",
    "print(\"# Files: \", files_num)    "
   ]
  },
  {
   "cell_type": "code",
   "execution_count": 5,
   "metadata": {},
   "outputs": [],
   "source": [
    "drone1_files.sort()\n",
    "drone2_files.sort()\n",
    "drone3_files.sort()\n",
    "back_files.sort()\n",
    "bee_files.sort()"
   ]
  },
  {
   "cell_type": "code",
   "execution_count": 6,
   "metadata": {},
   "outputs": [],
   "source": [
    "dump = [bee_files, drone1_files, drone2_files, drone3_files]\n",
    "input_data = [[],[],[],[]]\n",
    "y = [[],[],[],[]]\n",
    "files_num = [5000,5000,5000,5000]"
   ]
  },
  {
   "cell_type": "code",
   "execution_count": 7,
   "metadata": {},
   "outputs": [],
   "source": [
    "for i in range(4):\n",
    "    for j in range(4800):\n",
    "        raw, sr = librosa.load(dump[i][j], sr=SAMPLE_RATE)\n",
    "        norm = maxabs_scale(raw)\n",
    "        buf = librosa.feature.mfcc(norm, sr=44100, n_mfcc=13).T\n",
    "        if j==0:\n",
    "            input_data[i] = buf\n",
    "        else:        \n",
    "            input_data[i] = np.concatenate((input_data[i], buf))"
   ]
  },
  {
   "cell_type": "code",
   "execution_count": 8,
   "metadata": {},
   "outputs": [
    {
     "name": "stdout",
     "output_type": "stream",
     "text": [
      "Bee shape:   (417600, 13)\n",
      "Drone shape1:  (417600, 13)\n",
      "Drone shape2:  (417600, 13)\n",
      "Drone shape3:  (417600, 13)\n"
     ]
    }
   ],
   "source": [
    "print(\"Bee shape:  \", input_data[0].shape)\n",
    "print(\"Drone shape1: \", input_data[1].shape)\n",
    "print(\"Drone shape2: \", input_data[2].shape)\n",
    "print(\"Drone shape3: \", input_data[3].shape)"
   ]
  },
  {
   "cell_type": "code",
   "execution_count": 52,
   "metadata": {},
   "outputs": [
    {
     "name": "stdout",
     "output_type": "stream",
     "text": [
      "y 0 (417600,)\n",
      "y 1 (417600,)\n",
      "y 2 (417600,)\n",
      "y 3 (417600,)\n"
     ]
    }
   ],
   "source": [
    "for i in range(4):\n",
    "    y[i] = np.ones(len(input_data[i]))*i\n",
    "    print(\"y\" ,i, y[i].shape)"
   ]
  },
  {
   "cell_type": "code",
   "execution_count": 9,
   "metadata": {},
   "outputs": [],
   "source": [
    "np.save(\"/Users/junhyuckwoo/capstone/TestFile/ProceedData/bee\", input_data[0])\n",
    "np.save(\"/Users/junhyuckwoo/capstone/TestFile/ProceedData/syma\", input_data[1])\n",
    "np.save(\"/Users/junhyuckwoo/capstone/TestFile/ProceedData/mavic\", input_data[2])\n",
    "np.save(\"/Users/junhyuckwoo/capstone/TestFile/ProceedData/phantom\", input_data[3])"
   ]
  },
  {
   "cell_type": "code",
   "execution_count": 54,
   "metadata": {},
   "outputs": [],
   "source": [
    "np.save(\"/Users/junhyuckwoo/capstone/TestFile/ProceedData/bee_l\", y[0])\n",
    "np.save(\"/Users/junhyuckwoo/capstone/TestFile/ProceedData/syma_l\", y[1])\n",
    "np.save(\"/Users/junhyuckwoo/capstone/TestFile/ProceedData/mavic_l\", y[2])\n",
    "np.save(\"/Users/junhyuckwoo/capstone/TestFile/ProceedData/phantom_l\", y[3])"
   ]
  },
  {
   "cell_type": "code",
   "execution_count": 11,
   "metadata": {},
   "outputs": [],
   "source": [
    "for i in range(10000):\n",
    "    raw, sr = librosa.load(back_files[i], sr=SAMPLE_RATE)\n",
    "    norm = maxabs_scale(raw)\n",
    "    buf = librosa.feature.mfcc(norm, sr=44100, n_mfcc=13).T\n",
    "    if i==0:\n",
    "        inda = buf\n",
    "    else:        \n",
    "        inda = np.concatenate((inda, buf))"
   ]
  },
  {
   "cell_type": "code",
   "execution_count": 22,
   "metadata": {},
   "outputs": [],
   "source": [
    "y = np.ones(len(inda))*0"
   ]
  },
  {
   "cell_type": "code",
   "execution_count": 15,
   "metadata": {},
   "outputs": [],
   "source": [
    "np.save(\"/Users/junhyuckwoo/capstone/TestFile/ProceedData/background\",inda)\n",
    "np.save(\"/Users/junhyuckwoo/capstone/TestFile/ProceedData/background_l\", y)"
   ]
  }
 ],
 "metadata": {
  "kernelspec": {
   "display_name": "Python 3",
   "language": "python",
   "name": "python3"
  },
  "language_info": {
   "codemirror_mode": {
    "name": "ipython",
    "version": 3
   },
   "file_extension": ".py",
   "mimetype": "text/x-python",
   "name": "python",
   "nbconvert_exporter": "python",
   "pygments_lexer": "ipython3",
   "version": "3.5.0"
  }
 },
 "nbformat": 4,
 "nbformat_minor": 2
}
