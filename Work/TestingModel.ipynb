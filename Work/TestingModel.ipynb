{
 "cells": [
  {
   "cell_type": "code",
   "execution_count": 1,
   "metadata": {},
   "outputs": [],
   "source": [
    "import librosa\n",
    "import glob\n"
   ]
  },
  {
   "cell_type": "code",
   "execution_count": 7,
   "metadata": {},
   "outputs": [
    {
     "name": "stdout",
     "output_type": "stream",
     "text": [
      "Bee path:  /Users/junhyuckwoo/capstone/TestFile/Data/bee/*.wav\n",
      "Drone path:  /Users/junhyuckwoo/capstone/TestFile/Data/phantom4/base/*.wav\n",
      "4\n"
     ]
    }
   ],
   "source": [
    "# Make a path\n",
    "path ='/Users/junhyuckwoo/capstone/TestFile/Data/'\n",
    "bee_path = path + 'bee/*.wav'\n",
    "drone_path = path + 'phantom4/base/*.wav'\n",
    "\n",
    "# Read every file in path\n",
    "b_files = glob.glob(bee_path)\n",
    "d_files = glob.glob(drone_path)\n",
    "\n",
    "print(\"Bee path: \", bee_path)\n",
    "print(\"Drone path: \", drone_path)\n",
    "\n",
    "if len(b_files) > len(d_files):\n",
    "    length = len(d_files)\n",
    "else:\n",
    "    length = len(b_files)\n",
    "    \n",
    "print(\"# of files: \", length)"
   ]
  },
  {
   "cell_type": "code",
   "execution_count": null,
   "metadata": {},
   "outputs": [],
   "source": []
  }
 ],
 "metadata": {
  "kernelspec": {
   "display_name": "Python 3",
   "language": "python",
   "name": "python3"
  },
  "language_info": {
   "codemirror_mode": {
    "name": "ipython",
    "version": 3
   },
   "file_extension": ".py",
   "mimetype": "text/x-python",
   "name": "python",
   "nbconvert_exporter": "python",
   "pygments_lexer": "ipython3",
   "version": "3.5.0"
  }
 },
 "nbformat": 4,
 "nbformat_minor": 2
}
