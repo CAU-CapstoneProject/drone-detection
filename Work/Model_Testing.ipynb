{
 "cells": [
  {
   "cell_type": "code",
   "execution_count": 33,
   "metadata": {},
   "outputs": [],
   "source": [
    "# Open Modules\n",
    "from sklearn.preprocessing import scale, robust_scale, minmax_scale, maxabs_scale\n",
    "from sklearn.model_selection import train_test_split\n",
    "from sklearn.externals import joblib\n",
    "import matplotlib.pyplot as plt\n",
    "import numpy as np\n",
    "import glob\n",
    "import librosa"
   ]
  },
  {
   "cell_type": "code",
   "execution_count": 34,
   "metadata": {},
   "outputs": [],
   "source": [
    "# Module made by myself\n",
    "import training as tr"
   ]
  },
  {
   "cell_type": "code",
   "execution_count": 81,
   "metadata": {},
   "outputs": [],
   "source": [
    "# Load Model\n",
    "model = joblib.load(\"11112018_randomforest_oob.pkl\")"
   ]
  },
  {
   "cell_type": "code",
   "execution_count": 82,
   "metadata": {},
   "outputs": [
    {
     "data": {
      "text/plain": [
       "RandomForestClassifier(bootstrap=True, class_weight=None, criterion='gini',\n",
       "            max_depth=None, max_features='auto', max_leaf_nodes=None,\n",
       "            min_impurity_decrease=0.0, min_impurity_split=None,\n",
       "            min_samples_leaf=1, min_samples_split=2,\n",
       "            min_weight_fraction_leaf=0.0, n_estimators=50, n_jobs=1,\n",
       "            oob_score=True, random_state=None, verbose=0, warm_start=False)"
      ]
     },
     "execution_count": 82,
     "metadata": {},
     "output_type": "execute_result"
    }
   ],
   "source": [
    "model"
   ]
  },
  {
   "cell_type": "code",
   "execution_count": 83,
   "metadata": {},
   "outputs": [
    {
     "name": "stdout",
     "output_type": "stream",
     "text": [
      "# Test filest:  12\n"
     ]
    }
   ],
   "source": [
    "# Load Data\n",
    "f_format = \"/*.wav\"\n",
    "directory = \"\"\n",
    "#test_path = \"/Users/junhyuckwoo/capstone/TestFile/Data/DistanceTest/mavic/*.wav\"\n",
    "test_path = \"/Users/junhyuckwoo/capstone/TestFile/testing\" + directory + f_format\n",
    "test_files = glob.glob(test_path)\n",
    "files_num = len(test_files)\n",
    "print(\"# Test filest: \", files_num)"
   ]
  },
  {
   "cell_type": "code",
   "execution_count": 84,
   "metadata": {},
   "outputs": [
    {
     "name": "stdout",
     "output_type": "stream",
     "text": [
      "Data Shape (888, 13)\n"
     ]
    }
   ],
   "source": [
    "# Input daata Preprocessing\n",
    "raw, sr = librosa.load(test_files[11], sr=44100)\n",
    "norm = maxabs_scale(raw)\n",
    "data= librosa.feature.mfcc(norm, sr=44100, n_mfcc=13).T\n",
    "# Checking for debugging\n",
    "print(\"Data Shape\", data.shape)"
   ]
  },
  {
   "cell_type": "code",
   "execution_count": 85,
   "metadata": {},
   "outputs": [],
   "source": [
    " label = np.ones(len(data))*0"
   ]
  },
  {
   "cell_type": "code",
   "execution_count": 86,
   "metadata": {},
   "outputs": [],
   "source": [
    "test = data\n",
    "y = label"
   ]
  },
  {
   "cell_type": "code",
   "execution_count": 87,
   "metadata": {},
   "outputs": [
    {
     "name": "stdout",
     "output_type": "stream",
     "text": [
      "RandomForestClassifier(bootstrap=True, class_weight=None, criterion='gini',\n",
      "            max_depth=None, max_features='auto', max_leaf_nodes=None,\n",
      "            min_impurity_decrease=0.0, min_impurity_split=None,\n",
      "            min_samples_leaf=1, min_samples_split=2,\n",
      "            min_weight_fraction_leaf=0.0, n_estimators=50, n_jobs=1,\n",
      "            oob_score=True, random_state=None, verbose=0, warm_start=False)\n",
      "Input Data:  (888, 13)\n",
      "Label Data:  (888,)\n",
      "Ratio:  0.2\n",
      "Iteration:  10 \n",
      "\n",
      "0 is finished, Accuracy:  1.0\n",
      "1 is finished, Accuracy:  1.0\n",
      "2 is finished, Accuracy:  1.0\n",
      "3 is finished, Accuracy:  1.0\n",
      "4 is finished, Accuracy:  1.0\n",
      "5 is finished, Accuracy:  1.0\n",
      "6 is finished, Accuracy:  1.0\n",
      "7 is finished, Accuracy:  1.0\n",
      "8 is finished, Accuracy:  1.0\n",
      "9 is finished, Accuracy:  1.0\n",
      "\n",
      "F-Score: 1.0\n",
      "Accuracy:  1.0\n",
      "             precision    recall  f1-score   support\n",
      "\n",
      "        0.0       1.00      1.00      1.00       178\n",
      "\n",
      "avg / total       1.00      1.00      1.00       178\n",
      "\n"
     ]
    }
   ],
   "source": [
    "result = tr.cross_val(model, test, y, 0.2, 10)"
   ]
  },
  {
   "cell_type": "code",
   "execution_count": 88,
   "metadata": {},
   "outputs": [],
   "source": [
    "prediction = model.predict(test)"
   ]
  },
  {
   "cell_type": "code",
   "execution_count": 89,
   "metadata": {},
   "outputs": [
    {
     "data": {
      "text/plain": [
       "[<matplotlib.lines.Line2D at 0x1233241d0>]"
      ]
     },
     "execution_count": 89,
     "metadata": {},
     "output_type": "execute_result"
    },
    {
     "data": {
      "image/png": "[encoded data removed]",
      "text/plain": [
       "<Figure size 432x288 with 1 Axes>"
      ]
     },
     "metadata": {
      "needs_background": "light"
     },
     "output_type": "display_data"
    }
   ],
   "source": [
    "plt.plot(prediction[:44100])"
   ]
  },
  {
   "cell_type": "code",
   "execution_count": null,
   "metadata": {},
   "outputs": [],
   "source": []
  }
 ],
 "metadata": {
  "kernelspec": {
   "display_name": "Python 3",
   "language": "python",
   "name": "python3"
  },
  "language_info": {
   "codemirror_mode": {
    "name": "ipython",
    "version": 3
   },
   "file_extension": ".py",
   "mimetype": "text/x-python",
   "name": "python",
   "nbconvert_exporter": "python",
   "pygments_lexer": "ipython3",
   "version": "3.5.0"
  }
 },
 "nbformat": 4,
 "nbformat_minor": 2
}
