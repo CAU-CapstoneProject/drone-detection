{
 "cells": [
  {
   "cell_type": "code",
   "execution_count": 191,
   "metadata": {},
   "outputs": [],
   "source": [
    "from sklearn.preprocessing import scale, robust_scale, minmax_scale, maxabs_scale\n",
    "from sklearn.model_selection import train_test_split\n",
    "from sklearn.externals import joblib\n",
    "import numpy as np\n",
    "import glob\n",
    "import librosa"
   ]
  },
  {
   "cell_type": "code",
   "execution_count": 192,
   "metadata": {},
   "outputs": [],
   "source": [
    "# Load Model\n",
    "model = joblib.load(\"10282018_randomforest_bee2drone_n_sc.pkl\")"
   ]
  },
  {
   "cell_type": "code",
   "execution_count": 213,
   "metadata": {},
   "outputs": [
    {
     "name": "stdout",
     "output_type": "stream",
     "text": [
      "/Users/junhyuckwoo/capstone/TestFile/Data/DistanceTest/Syma/syma-16.5m.wav\n"
     ]
    }
   ],
   "source": [
    "# Load Data\n",
    "#drone_path = \"/Users/junhyuckwoo/capstone/TestFile/ProceedData/phantom2_44100_1s/*.wav\"\n",
    "drone_path = \"/Users/junhyuckwoo/capstone/TestFile/Data/DistanceTest/Syma/*.wav\"\n",
    "drone_files = glob.glob(drone_path)\n",
    "files_num = len(drone_files)\n",
    "print(drone_files[0])"
   ]
  },
  {
   "cell_type": "code",
   "execution_count": 214,
   "metadata": {},
   "outputs": [
    {
     "data": {
      "text/plain": [
       "(87, 7)"
      ]
     },
     "execution_count": 214,
     "metadata": {},
     "output_type": "execute_result"
    }
   ],
   "source": [
    "data,sr = librosa.load(drone_files[0], sr=44100)\n",
    "norm = maxabs_scale(data[:44100])\n",
    "drone = librosa.feature.spectral_contrast(norm).T\n",
    "#drone= librosa.feature.mfcc(zc[0], sr=44100, n_mfcc=13).T\n",
    "drone.shape"
   ]
  },
  {
   "cell_type": "code",
   "execution_count": 185,
   "metadata": {},
   "outputs": [],
   "source": [
    "# Load Testing data\n",
    "for index in range(1, files_num):\n",
    "    raw, sr = librosa.load(drone_files[index], sr=44100)\n",
    "    norm = maxabs_scale(raw)\n",
    "    mfcc_drone = librosa.feature.spectral_contrast(norm).T\n",
    "    #mfcc_drone= librosa.feature.mfcc(zc[0], sr=44100, n_mfcc=13).T\n",
    "    drone = np.concatenate((drone, mfcc_drone))"
   ]
  },
  {
   "cell_type": "code",
   "execution_count": 215,
   "metadata": {},
   "outputs": [],
   "source": [
    "y_d = np.ones(len(drone))\n",
    "#train, test, tr_y, test_y = train_test_split(drone, y_d, test_size=0.8, shuffle=True)"
   ]
  },
  {
   "cell_type": "code",
   "execution_count": 216,
   "metadata": {},
   "outputs": [
    {
     "data": {
      "text/plain": [
       "(87,)"
      ]
     },
     "execution_count": 216,
     "metadata": {},
     "output_type": "execute_result"
    }
   ],
   "source": [
    "test = drone\n",
    "test.shape\n",
    "y_d.shape"
   ]
  },
  {
   "cell_type": "code",
   "execution_count": 217,
   "metadata": {},
   "outputs": [],
   "source": [
    "prediction = model.predict(test)"
   ]
  },
  {
   "cell_type": "code",
   "execution_count": 218,
   "metadata": {},
   "outputs": [
    {
     "name": "stdout",
     "output_type": "stream",
     "text": [
      "Model: 10282018_randomforest_bee2drone_n_sc.pkl\n",
      "F-Score: 0.989\n",
      "Accuracy:  0.9885057471264368\n",
      "             precision    recall  f1-score   support\n",
      "\n",
      "        0.0       0.00      0.00      0.00         0\n",
      "        1.0       1.00      0.99      0.99        87\n",
      "\n",
      "avg / total       1.00      0.99      0.99        87\n",
      "\n",
      "[[ 0  0]\n",
      " [ 1 86]]\n"
     ]
    },
    {
     "name": "stderr",
     "output_type": "stream",
     "text": [
      "/Users/junhyuckwoo/capstone/lib/python3.5/site-packages/sklearn/metrics/classification.py:1137: UndefinedMetricWarning: Recall and F-score are ill-defined and being set to 0.0 in labels with no true samples.\n",
      "  'recall', 'true', average, warn_for)\n"
     ]
    }
   ],
   "source": [
    "from sklearn.metrics import precision_recall_fscore_support\n",
    "p,r,f,s = precision_recall_fscore_support(y_d, prediction, average='micro')\n",
    "print(\"Model: 10282018_randomforest_bee2drone_n_sc.pkl\")\n",
    "print(\"F-Score:\", round(f,3))\n",
    "from sklearn.metrics import accuracy_score\n",
    "print(\"Accuracy: \", accuracy_score(y_d, prediction))\n",
    "from sklearn.metrics import classification_report\n",
    "print(classification_report(y_d, prediction))\n",
    "from sklearn.metrics import confusion_matrix\n",
    "print(confusion_matrix(y_d, prediction))"
   ]
  },
  {
   "cell_type": "code",
   "execution_count": null,
   "metadata": {},
   "outputs": [],
   "source": []
  }
 ],
 "metadata": {
  "kernelspec": {
   "display_name": "Python 3",
   "language": "python",
   "name": "python3"
  },
  "language_info": {
   "codemirror_mode": {
    "name": "ipython",
    "version": 3
   },
   "file_extension": ".py",
   "mimetype": "text/x-python",
   "name": "python",
   "nbconvert_exporter": "python",
   "pygments_lexer": "ipython3",
   "version": "3.5.0"
  }
 },
 "nbformat": 4,
 "nbformat_minor": 2
}
